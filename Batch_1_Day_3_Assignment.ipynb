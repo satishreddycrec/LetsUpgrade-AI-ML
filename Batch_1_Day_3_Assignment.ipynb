{
 "cells": [
  {
   "cell_type": "markdown",
   "metadata": {},
   "source": [
    "## Assignment Day-3"
   ]
  },
  {
   "cell_type": "markdown",
   "metadata": {},
   "source": [
    "## Question 1: Write a program to substract two complex numbers in python?"
   ]
  },
  {
   "cell_type": "code",
   "execution_count": 1,
   "metadata": {},
   "outputs": [
    {
     "name": "stdout",
     "output_type": "stream",
     "text": [
      "substraction of two complex number (5+3j) and (3-7j) is (2+10j)\n"
     ]
    }
   ],
   "source": [
    "x=5+3j\n",
    "y=3-7j\n",
    "\n",
    "print(\"substraction of two complex number\",x,\"and\",y,\"is\",x-y)"
   ]
  },
  {
   "cell_type": "markdown",
   "metadata": {},
   "source": [
    "## Question 2: Write a program to find the fourth root of a number?"
   ]
  },
  {
   "cell_type": "code",
   "execution_count": 2,
   "metadata": {},
   "outputs": [
    {
     "name": "stdout",
     "output_type": "stream",
     "text": [
      "fourth root of a given number 16 is 2.0.\n"
     ]
    }
   ],
   "source": [
    "x=16\n",
    "y=x**(1/4)\n",
    "print(\"fourth root of a given number {0} is {1}.\".format(x,y))"
   ]
  },
  {
   "cell_type": "markdown",
   "metadata": {},
   "source": [
    "## Question 3: Write a program to swap two numbers in python with the help of a temporary variable?"
   ]
  },
  {
   "cell_type": "code",
   "execution_count": 3,
   "metadata": {},
   "outputs": [
    {
     "name": "stdout",
     "output_type": "stream",
     "text": [
      "The value of x after swapping: 57\n",
      "The value of y after swapping: 15\n"
     ]
    }
   ],
   "source": [
    "x=15\n",
    "y=57\n",
    "Temp=x\n",
    "x=y\n",
    "y=Temp\n",
    "\n",
    "\n",
    "print('The value of x after swapping: {}'.format(x))\n",
    "print('The value of y after swapping: {}'.format(y))"
   ]
  },
  {
   "cell_type": "markdown",
   "metadata": {},
   "source": [
    "## Question 4:  Write a program to swap two numbers in python without the help of a temporary variable?"
   ]
  },
  {
   "cell_type": "code",
   "execution_count": 4,
   "metadata": {},
   "outputs": [
    {
     "name": "stdout",
     "output_type": "stream",
     "text": [
      "The value of x after swapping: 37\n",
      "The value of y after swapping: 13\n"
     ]
    }
   ],
   "source": [
    "x=13\n",
    "y=37\n",
    "\n",
    "x, y = y, x\n",
    "\n",
    "print('The value of x after swapping: {}'.format(x))\n",
    "print('The value of y after swapping: {}'.format(y))"
   ]
  },
  {
   "cell_type": "markdown",
   "metadata": {},
   "source": [
    "### OR"
   ]
  },
  {
   "cell_type": "code",
   "execution_count": 5,
   "metadata": {},
   "outputs": [
    {
     "name": "stdout",
     "output_type": "stream",
     "text": [
      "Value of x :  14  and y :  38\n"
     ]
    }
   ],
   "source": [
    "x=38\n",
    "y=14\n",
    "\n",
    "x=x+y\n",
    "y=x-y\n",
    "x=x-y\n",
    "   \n",
    "print(\"Value of x : \", x, \" and y : \", y) "
   ]
  },
  {
   "cell_type": "markdown",
   "metadata": {},
   "source": [
    "## Quetion 5: Write a program to convert farenheit to kelvin  and celsius both?"
   ]
  },
  {
   "cell_type": "code",
   "execution_count": 6,
   "metadata": {},
   "outputs": [
    {
     "name": "stdout",
     "output_type": "stream",
     "text": [
      "Temperature in kelvin:  308.15\n",
      "Temperature in celsius:  35.0\n"
     ]
    }
   ],
   "source": [
    "farenheit=95\n",
    "\n",
    "kelvin = (5/9)*(farenheit - 32) + 273.15\n",
    "celsius=(farenheit-32)/1.8\n",
    "\n",
    "print(\"Temperature in kelvin: \",kelvin)\n",
    "print(\"Temperature in celsius: \",celsius)"
   ]
  },
  {
   "cell_type": "markdown",
   "metadata": {},
   "source": [
    "## Question 6: Write a program to demostrate all the available data types in python?\n",
    "       Hint- use type() function"
   ]
  },
  {
   "cell_type": "code",
   "execution_count": 7,
   "metadata": {},
   "outputs": [
    {
     "name": "stdout",
     "output_type": "stream",
     "text": [
      "<class 'str'>\n",
      "<class 'int'>\n",
      "<class 'float'>\n",
      "<class 'complex'>\n",
      "<class 'list'>\n",
      "<class 'tuple'>\n",
      "<class 'bool'>\n",
      "<class 'dict'>\n",
      "<class 'set'>\n",
      "<class 'bytes'>\n"
     ]
    }
   ],
   "source": [
    "str1 = \"satishreddy\"\n",
    "int1 = 33\n",
    "float1 = 4.5\n",
    "complex1= 5+3j\n",
    "lst = [1,2,34,9]\n",
    "tup = (5,'program', 1+3j)\n",
    "boolean = True\n",
    "dict1 = {\"name\":\"satish\",\"surname\":\"reddy\",\"age\":24}\n",
    "set1 = {\"vidya\",3,75.90,5+8j,\"shiv\"}\n",
    "byte = b'1110010'\n",
    "\n",
    "print(type(str1))\n",
    "print(type(int1))\n",
    "print(type(float1))\n",
    "print(type(complex1))\n",
    "print(type(lst))\n",
    "print(type(tup))\n",
    "print(type(boolean))\n",
    "print(type(dict1))\n",
    "print(type(set1))\n",
    "print(type(byte))"
   ]
  },
  {
   "cell_type": "markdown",
   "metadata": {},
   "source": [
    "## Question 7: Create a Markdown cell in jupyter and list steps discussed in the session by Dr. Darshan ingle sir to create GitHub profile and upload GitHubs Assignment link?"
   ]
  },
  {
   "cell_type": "markdown",
   "metadata": {},
   "source": [
    "### Steps to create GitHub profile :- \n",
    "    1) Enter GitHub URL (www.github.com) and enter on sign up and enter required info(like name, email, etc.)\n",
    "    2) Login into GitHub site by click on sign in and enter user name and password then submit.\n",
    "    3) After login click on left side profile icon & click on \"your profile\" then fill details with profile photo & submit.\n",
    "    4) to create Workspace(repository), click on left side plus icon (+), then click on \"new repository\" then fill repository name (like 'LetsUpgrade AI/ML'), Description and select \"public\" then click on create repository button."
   ]
  },
  {
   "cell_type": "markdown",
   "metadata": {},
   "source": [
    "###  upload GitHubs Assignment link\n",
    "    5) Upload Assignments solutions Jupyter File into created GitHub repository(\"LetsUpgrade AI/ML\") & copy Daywise file URL.\n",
    "    6) Enter Assignment submission link (\"https://bit.ly/aimlassignment\") and fill Google Form deatils.\n",
    "    7) select respective day & paste respective days assignment solution URL of the Folder in the Assignment Submission Form.\n",
    "    8) cross check details ones and click on submit."
   ]
  },
  {
   "cell_type": "code",
   "execution_count": null,
   "metadata": {},
   "outputs": [],
   "source": []
  },
  {
   "cell_type": "code",
   "execution_count": null,
   "metadata": {},
   "outputs": [],
   "source": []
  },
  {
   "cell_type": "code",
   "execution_count": null,
   "metadata": {},
   "outputs": [],
   "source": []
  },
  {
   "cell_type": "code",
   "execution_count": null,
   "metadata": {},
   "outputs": [],
   "source": []
  },
  {
   "cell_type": "code",
   "execution_count": null,
   "metadata": {},
   "outputs": [],
   "source": []
  },
  {
   "cell_type": "code",
   "execution_count": null,
   "metadata": {},
   "outputs": [],
   "source": []
  },
  {
   "cell_type": "code",
   "execution_count": null,
   "metadata": {},
   "outputs": [],
   "source": []
  }
 ],
 "metadata": {
  "kernelspec": {
   "display_name": "Python 3",
   "language": "python",
   "name": "python3"
  },
  "language_info": {
   "codemirror_mode": {
    "name": "ipython",
    "version": 3
   },
   "file_extension": ".py",
   "mimetype": "text/x-python",
   "name": "python",
   "nbconvert_exporter": "python",
   "pygments_lexer": "ipython3",
   "version": "3.8.3"
  }
 },
 "nbformat": 4,
 "nbformat_minor": 2
}
